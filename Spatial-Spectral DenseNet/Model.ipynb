{
 "cells": [
  {
   "cell_type": "code",
   "execution_count": 1,
   "metadata": {
    "ExecuteTime": {
     "end_time": "2020-02-03T20:42:59.611703Z",
     "start_time": "2020-02-03T20:42:58.333892Z"
    }
   },
   "outputs": [],
   "source": [
    "import tensorflow as tf\n",
    "import numpy as np\n",
    "\n",
    "# If you aren't using gpu, don't excecute below code\n",
    "# You can read document for below code here\n",
    "# https://www.tensorflow.org/guide/gpu\n",
    "\n",
    "# gpus = tf.config.experimental.list_physical_devices('GPU')\n",
    "# tf.config.experimental.set_visible_devices(gpus[1], 'GPU')\n",
    "# tf.config.experimental.set_memory_growth(gpus[1], True)"
   ]
  },
  {
   "cell_type": "code",
   "execution_count": null,
   "metadata": {},
   "outputs": [],
   "source": [
    "mnist = tf.keras.datasets.mnist\n",
    "\n",
    "(x_train, y_train), (x_test, y_test) = mnist.load_data()\n",
    "x_train, x_test = x_train / 255.0, x_test / 255.0\n",
    "\n",
    "x_train = x_train.reshape([x_train.shape[0], x_train.shape[1], x_train.shape[2], 1])\n",
    "x_test = x_test.reshape([x_test.shape[0], x_test.shape[1], x_test.shape[2], 1])"
   ]
  },
  {
   "cell_type": "code",
   "execution_count": 2,
   "metadata": {
    "ExecuteTime": {
     "end_time": "2020-02-03T20:49:51.620584Z",
     "start_time": "2020-02-03T20:49:51.338825Z"
    }
   },
   "outputs": [],
   "source": [
    "#If you can't load mnist data form above code, Download mnist.npz and excecute this cell\n",
    "\n",
    "# from modules.MnistData import MnistData\n",
    "# data = MnistData('./mnist.npz')\n",
    "\n",
    "# x_train, y_train = data.x_train, data.y_train\n",
    "# x_test, y_test = data.x_test, data.y_test\n",
    "\n",
    "# x_train = x_train.reshape([x_train.shape[0], x_train.shape[1], x_train.shape[2], 1])\n",
    "# x_test = x_test.reshape([x_test.shape[0], x_test.shape[1], x_test.shape[2], 1])"
   ]
  },
  {
   "cell_type": "code",
   "execution_count": 3,
   "metadata": {
    "ExecuteTime": {
     "end_time": "2020-02-03T20:51:56.827040Z",
     "start_time": "2020-02-03T20:51:55.533246Z"
    }
   },
   "outputs": [],
   "source": [
    "from tensorflow.keras.optimizers import Adam\n",
    "from tensorflow.keras.layers import Activation, Dropout\n",
    "from tensorflow.keras.layers import Conv2D, BatchNormalization\n",
    "from tensorflow.keras.layers import Dense, Flatten, concatenate\n",
    "from tensorflow.keras.models import Model\n",
    "from tensorflow.keras.utils import plot_model\n",
    "from tensorflow.keras import Input\n",
    "from tensorflow.keras.layers import DepthwiseConv2D\n",
    "from tensorflow.keras.layers import AveragePooling2D, GlobalAveragePooling2D\n",
    "import tensorflow as tf"
   ]
  },
  {
   "cell_type": "code",
   "execution_count": 4,
   "metadata": {
    "ExecuteTime": {
     "end_time": "2020-02-03T20:52:07.644593Z",
     "start_time": "2020-02-03T20:52:07.638396Z"
    }
   },
   "outputs": [],
   "source": [
    "def Build_conv2d(x, channel, stride):\n",
    "    return (Conv2D(channel, kernel_size=(3, 3), padding='same',\n",
    "                   kernel_initializer='he_uniform', use_bias=False,\n",
    "                   strides=stride, activation=None))(x)"
   ]
  },
  {
   "cell_type": "code",
   "execution_count": 5,
   "metadata": {
    "ExecuteTime": {
     "end_time": "2020-02-03T20:52:31.544826Z",
     "start_time": "2020-02-03T20:52:31.536422Z"
    }
   },
   "outputs": [],
   "source": [
    "def Build_Dense_block(name, x, growthRate):\n",
    "        shape = x.get_shape().as_list()\n",
    "        input_channel = shape[3]\n",
    "        with tf.compat.v1.variable_scope(name) as scope:\n",
    "            dense = BatchNormalization()(x)\n",
    "            dense = Activation('relu')\n",
    "            dense = Build_conv2d(x, growthRate, (1, 1))\n",
    "            return tf.concat([x, dense], 3)"
   ]
  },
  {
   "cell_type": "code",
   "execution_count": 7,
   "metadata": {
    "ExecuteTime": {
     "end_time": "2020-02-03T20:52:57.791260Z",
     "start_time": "2020-02-03T20:52:57.782053Z"
    }
   },
   "outputs": [],
   "source": [
    "def Build_transition(name, x):\n",
    "    shape = x.get_shape().as_list()\n",
    "    input_channel = shape[3]\n",
    "    with tf.compat.v1.variable_scope(name) as scope:\n",
    "        x = BatchNormalization()(x)\n",
    "        x = Activation('relu')(x)\n",
    "        x = Conv2D(input_channel, kernel_size=(1, 1),\n",
    "                   activation=None, strides=(1, 1),\n",
    "                   use_bias=False)(x)\n",
    "        return AveragePooling2D([2, 2])(x)"
   ]
  },
  {
   "cell_type": "code",
   "execution_count": 15,
   "metadata": {
    "ExecuteTime": {
     "end_time": "2020-02-03T20:57:01.257740Z",
     "start_time": "2020-02-03T20:57:01.242728Z"
    }
   },
   "outputs": [],
   "source": [
    "def Build_net(shape, dense_block_num, growthRate):\n",
    "\n",
    "    channel = 32\n",
    "    row, col = shape[0], shape[1]\n",
    "    input_layer = Input(shape=(row, col, 1), name='input')\n",
    "\n",
    "    x = Build_conv2d(input_layer, channel, (1, 1))\n",
    "\n",
    "    name_1, name_2, name_3 = 'dense_block_1', 'dense_block_2', 'dense_block_3'\n",
    "\n",
    "    \"\"\"\n",
    "    ====================================\n",
    "    =========Build First Block==========\n",
    "    ====================================\n",
    "    \"\"\"\n",
    "\n",
    "    with tf.name_scope(name_1) as scope:\n",
    "\n",
    "        for i in range(dense_block_num):\n",
    "            x = Build_Dense_block('dense_layer_{num}'.format(num=i), x, growthRate)\n",
    "\n",
    "        x = Build_transition('transtion_1', x)\n",
    "\n",
    "    \"\"\"\n",
    "    ====================================\n",
    "    =========Build Second Block=========\n",
    "    ====================================\n",
    "    \"\"\"\n",
    "\n",
    "    with tf.name_scope(name_2) as scope:\n",
    "\n",
    "        for i in range(dense_block_num):\n",
    "            x = Build_Dense_block('dense_layer_{num}'.format(num=i), x, growthRate)\n",
    "\n",
    "        x = Build_transition('transtion_2', x)\n",
    "\n",
    "    \"\"\"\n",
    "    ====================================\n",
    "    =========Build Third Block==========\n",
    "    ====================================\n",
    "    \"\"\"\n",
    "\n",
    "    with tf.name_scope(name_3) as scope:\n",
    "\n",
    "        for i in range(dense_block_num):\n",
    "            x = Build_Dense_block('dense_layer_{num}'.format(num=i), x, growthRate)\n",
    "\n",
    "        x = Build_transition('transtion_3', x)\n",
    "\n",
    "    x = BatchNormalization(name='bn_last')(x)\n",
    "    x = Activation('relu')(x)\n",
    "    x = GlobalAveragePooling2D()(x)\n",
    "    x = Dropout(0.2)(x)\n",
    "    out = Dense(10, activation='softmax')(x)\n",
    "    model = Model(input_layer, out)\n",
    "\n",
    "    return model"
   ]
  },
  {
   "cell_type": "code",
   "execution_count": 16,
   "metadata": {
    "ExecuteTime": {
     "end_time": "2020-02-03T20:57:02.211744Z",
     "start_time": "2020-02-03T20:57:01.746123Z"
    }
   },
   "outputs": [],
   "source": [
    "model = Build_net([28, 28], 3, 32)"
   ]
  },
  {
   "cell_type": "code",
   "execution_count": 17,
   "metadata": {
    "ExecuteTime": {
     "end_time": "2020-02-03T20:57:04.521818Z",
     "start_time": "2020-02-03T20:57:04.505964Z"
    },
    "scrolled": true
   },
   "outputs": [
    {
     "name": "stdout",
     "output_type": "stream",
     "text": [
      "Model: \"model\"\n",
      "__________________________________________________________________________________________________\n",
      "Layer (type)                    Output Shape         Param #     Connected to                     \n",
      "==================================================================================================\n",
      "input (InputLayer)              [(None, 28, 28, 1)]  0                                            \n",
      "__________________________________________________________________________________________________\n",
      "conv2d_6 (Conv2D)               (None, 28, 28, 32)   288         input[0][0]                      \n",
      "__________________________________________________________________________________________________\n",
      "conv2d_7 (Conv2D)               (None, 28, 28, 32)   9216        conv2d_6[0][0]                   \n",
      "__________________________________________________________________________________________________\n",
      "tf_op_layer_concat_3 (TensorFlo [(None, 28, 28, 64)] 0           conv2d_6[0][0]                   \n",
      "                                                                 conv2d_7[0][0]                   \n",
      "__________________________________________________________________________________________________\n",
      "conv2d_8 (Conv2D)               (None, 28, 28, 32)   18432       tf_op_layer_concat_3[0][0]       \n",
      "__________________________________________________________________________________________________\n",
      "tf_op_layer_concat_4 (TensorFlo [(None, 28, 28, 96)] 0           tf_op_layer_concat_3[0][0]       \n",
      "                                                                 conv2d_8[0][0]                   \n",
      "__________________________________________________________________________________________________\n",
      "conv2d_9 (Conv2D)               (None, 28, 28, 32)   27648       tf_op_layer_concat_4[0][0]       \n",
      "__________________________________________________________________________________________________\n",
      "tf_op_layer_concat_5 (TensorFlo [(None, 28, 28, 128) 0           tf_op_layer_concat_4[0][0]       \n",
      "                                                                 conv2d_9[0][0]                   \n",
      "__________________________________________________________________________________________________\n",
      "batch_normalization_6 (BatchNor (None, 28, 28, 128)  512         tf_op_layer_concat_5[0][0]       \n",
      "__________________________________________________________________________________________________\n",
      "activation_6 (Activation)       (None, 28, 28, 128)  0           batch_normalization_6[0][0]      \n",
      "__________________________________________________________________________________________________\n",
      "conv2d_10 (Conv2D)              (None, 28, 28, 128)  16384       activation_6[0][0]               \n",
      "__________________________________________________________________________________________________\n",
      "average_pooling2d (AveragePooli (None, 14, 14, 128)  0           conv2d_10[0][0]                  \n",
      "__________________________________________________________________________________________________\n",
      "conv2d_11 (Conv2D)              (None, 14, 14, 32)   36864       average_pooling2d[0][0]          \n",
      "__________________________________________________________________________________________________\n",
      "tf_op_layer_concat_6 (TensorFlo [(None, 14, 14, 160) 0           average_pooling2d[0][0]          \n",
      "                                                                 conv2d_11[0][0]                  \n",
      "__________________________________________________________________________________________________\n",
      "conv2d_12 (Conv2D)              (None, 14, 14, 32)   46080       tf_op_layer_concat_6[0][0]       \n",
      "__________________________________________________________________________________________________\n",
      "tf_op_layer_concat_7 (TensorFlo [(None, 14, 14, 192) 0           tf_op_layer_concat_6[0][0]       \n",
      "                                                                 conv2d_12[0][0]                  \n",
      "__________________________________________________________________________________________________\n",
      "conv2d_13 (Conv2D)              (None, 14, 14, 32)   55296       tf_op_layer_concat_7[0][0]       \n",
      "__________________________________________________________________________________________________\n",
      "tf_op_layer_concat_8 (TensorFlo [(None, 14, 14, 224) 0           tf_op_layer_concat_7[0][0]       \n",
      "                                                                 conv2d_13[0][0]                  \n",
      "__________________________________________________________________________________________________\n",
      "batch_normalization_10 (BatchNo (None, 14, 14, 224)  896         tf_op_layer_concat_8[0][0]       \n",
      "__________________________________________________________________________________________________\n",
      "activation_10 (Activation)      (None, 14, 14, 224)  0           batch_normalization_10[0][0]     \n",
      "__________________________________________________________________________________________________\n",
      "conv2d_14 (Conv2D)              (None, 14, 14, 224)  50176       activation_10[0][0]              \n",
      "__________________________________________________________________________________________________\n",
      "average_pooling2d_1 (AveragePoo (None, 7, 7, 224)    0           conv2d_14[0][0]                  \n",
      "__________________________________________________________________________________________________\n",
      "conv2d_15 (Conv2D)              (None, 7, 7, 32)     64512       average_pooling2d_1[0][0]        \n",
      "__________________________________________________________________________________________________\n",
      "tf_op_layer_concat_9 (TensorFlo [(None, 7, 7, 256)]  0           average_pooling2d_1[0][0]        \n",
      "                                                                 conv2d_15[0][0]                  \n",
      "__________________________________________________________________________________________________\n",
      "conv2d_16 (Conv2D)              (None, 7, 7, 32)     73728       tf_op_layer_concat_9[0][0]       \n",
      "__________________________________________________________________________________________________\n",
      "tf_op_layer_concat_10 (TensorFl [(None, 7, 7, 288)]  0           tf_op_layer_concat_9[0][0]       \n",
      "                                                                 conv2d_16[0][0]                  \n",
      "__________________________________________________________________________________________________\n",
      "conv2d_17 (Conv2D)              (None, 7, 7, 32)     82944       tf_op_layer_concat_10[0][0]      \n",
      "__________________________________________________________________________________________________\n",
      "tf_op_layer_concat_11 (TensorFl [(None, 7, 7, 320)]  0           tf_op_layer_concat_10[0][0]      \n",
      "                                                                 conv2d_17[0][0]                  \n",
      "__________________________________________________________________________________________________\n",
      "batch_normalization_14 (BatchNo (None, 7, 7, 320)    1280        tf_op_layer_concat_11[0][0]      \n",
      "__________________________________________________________________________________________________\n",
      "activation_14 (Activation)      (None, 7, 7, 320)    0           batch_normalization_14[0][0]     \n",
      "__________________________________________________________________________________________________\n",
      "conv2d_18 (Conv2D)              (None, 7, 7, 320)    102400      activation_14[0][0]              \n",
      "__________________________________________________________________________________________________\n",
      "average_pooling2d_2 (AveragePoo (None, 3, 3, 320)    0           conv2d_18[0][0]                  \n",
      "__________________________________________________________________________________________________\n",
      "bn_last (BatchNormalization)    (None, 3, 3, 320)    1280        average_pooling2d_2[0][0]        \n",
      "__________________________________________________________________________________________________\n",
      "activation_15 (Activation)      (None, 3, 3, 320)    0           bn_last[0][0]                    \n",
      "__________________________________________________________________________________________________\n",
      "global_average_pooling2d (Globa (None, 320)          0           activation_15[0][0]              \n",
      "__________________________________________________________________________________________________\n",
      "dropout (Dropout)               (None, 320)          0           global_average_pooling2d[0][0]   \n",
      "__________________________________________________________________________________________________\n",
      "dense (Dense)                   (None, 10)           3210        dropout[0][0]                    \n",
      "==================================================================================================\n",
      "Total params: 591,146\n",
      "Trainable params: 589,162\n",
      "Non-trainable params: 1,984\n",
      "__________________________________________________________________________________________________\n"
     ]
    }
   ],
   "source": [
    "model.summary()"
   ]
  },
  {
   "cell_type": "code",
   "execution_count": 11,
   "metadata": {
    "ExecuteTime": {
     "end_time": "2020-02-03T20:23:14.196832Z",
     "start_time": "2020-02-03T20:23:14.160403Z"
    }
   },
   "outputs": [],
   "source": [
    "epoch = 10\n",
    "batch_size = 100\n",
    "\n",
    "model.compile(optimizer='adam',\n",
    "              loss='sparse_categorical_crossentropy',\n",
    "              metrics=['accuracy'])"
   ]
  },
  {
   "cell_type": "code",
   "execution_count": 12,
   "metadata": {
    "ExecuteTime": {
     "end_time": "2020-02-03T20:24:53.694472Z",
     "start_time": "2020-02-03T20:23:14.197943Z"
    },
    "scrolled": true
   },
   "outputs": [
    {
     "name": "stdout",
     "output_type": "stream",
     "text": [
      "Train on 54000 samples, validate on 6000 samples\n",
      "Epoch 1/10\n",
      "54000/54000 [==============================] - 11s 209us/sample - loss: 0.1512 - accuracy: 0.9596 - val_loss: 0.2967 - val_accuracy: 0.9063\n",
      "Epoch 2/10\n",
      "54000/54000 [==============================] - 10s 177us/sample - loss: 0.0441 - accuracy: 0.9871 - val_loss: 0.1051 - val_accuracy: 0.9663\n",
      "Epoch 3/10\n",
      "54000/54000 [==============================] - 10s 177us/sample - loss: 0.0349 - accuracy: 0.9894 - val_loss: 0.1049 - val_accuracy: 0.9672\n",
      "Epoch 4/10\n",
      "54000/54000 [==============================] - 10s 180us/sample - loss: 0.0300 - accuracy: 0.9901 - val_loss: 0.0419 - val_accuracy: 0.9883\n",
      "Epoch 5/10\n",
      "54000/54000 [==============================] - 10s 182us/sample - loss: 0.0250 - accuracy: 0.9919 - val_loss: 0.0499 - val_accuracy: 0.9855\n",
      "Epoch 6/10\n",
      "54000/54000 [==============================] - 10s 183us/sample - loss: 0.0216 - accuracy: 0.9930 - val_loss: 0.0381 - val_accuracy: 0.9883\n",
      "Epoch 7/10\n",
      "54000/54000 [==============================] - 10s 183us/sample - loss: 0.0205 - accuracy: 0.9936 - val_loss: 0.0650 - val_accuracy: 0.9788\n",
      "Epoch 8/10\n",
      "54000/54000 [==============================] - 10s 184us/sample - loss: 0.0171 - accuracy: 0.9943 - val_loss: 0.0825 - val_accuracy: 0.9730\n",
      "Epoch 9/10\n",
      "54000/54000 [==============================] - 10s 183us/sample - loss: 0.0160 - accuracy: 0.9950 - val_loss: 0.0274 - val_accuracy: 0.9927\n",
      "Epoch 10/10\n",
      "54000/54000 [==============================] - 10s 183us/sample - loss: 0.0153 - accuracy: 0.9952 - val_loss: 0.0356 - val_accuracy: 0.9907\n"
     ]
    }
   ],
   "source": [
    "train_history = model.fit(x_train, y_train, epochs=epoch, batch_size=batch_size,  verbose=1,\n",
    "                          validation_split=0.1 )"
   ]
  },
  {
   "cell_type": "code",
   "execution_count": 18,
   "metadata": {
    "ExecuteTime": {
     "end_time": "2020-02-03T20:27:34.244377Z",
     "start_time": "2020-02-03T20:27:32.553371Z"
    }
   },
   "outputs": [
    {
     "name": "stdout",
     "output_type": "stream",
     "text": [
      "10000/10000 - 2s - loss: 0.0348 - accuracy: 0.9892\n"
     ]
    },
    {
     "data": {
      "text/plain": [
       "[0.034750204985839084, 0.9892]"
      ]
     },
     "execution_count": 18,
     "metadata": {},
     "output_type": "execute_result"
    }
   ],
   "source": [
    "model.evaluate(x_test,  y_test, verbose=2)"
   ]
  }
 ],
 "metadata": {
  "hide_input": false,
  "kernelspec": {
   "display_name": "Python 3",
   "language": "python",
   "name": "python3"
  },
  "language_info": {
   "codemirror_mode": {
    "name": "ipython",
    "version": 3
   },
   "file_extension": ".py",
   "mimetype": "text/x-python",
   "name": "python",
   "nbconvert_exporter": "python",
   "pygments_lexer": "ipython3",
   "version": "3.7.5"
  },
  "toc": {
   "base_numbering": 1,
   "nav_menu": {},
   "number_sections": true,
   "sideBar": true,
   "skip_h1_title": false,
   "title_cell": "Table of Contents",
   "title_sidebar": "Contents",
   "toc_cell": false,
   "toc_position": {},
   "toc_section_display": true,
   "toc_window_display": false
  },
  "varInspector": {
   "cols": {
    "lenName": 16,
    "lenType": 16,
    "lenVar": 40
   },
   "kernels_config": {
    "python": {
     "delete_cmd_postfix": "",
     "delete_cmd_prefix": "del ",
     "library": "var_list.py",
     "varRefreshCmd": "print(var_dic_list())"
    },
    "r": {
     "delete_cmd_postfix": ") ",
     "delete_cmd_prefix": "rm(",
     "library": "var_list.r",
     "varRefreshCmd": "cat(var_dic_list()) "
    }
   },
   "types_to_exclude": [
    "module",
    "function",
    "builtin_function_or_method",
    "instance",
    "_Feature"
   ],
   "window_display": false
  }
 },
 "nbformat": 4,
 "nbformat_minor": 2
}
